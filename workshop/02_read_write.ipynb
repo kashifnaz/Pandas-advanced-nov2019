{
  "nbformat": 4,
  "nbformat_minor": 0,
  "metadata": {
    "kernelspec": {
      "display_name": "Python 3",
      "language": "python",
      "name": "python3"
    },
    "language_info": {
      "codemirror_mode": {
        "name": "ipython",
        "version": 3
      },
      "file_extension": ".py",
      "mimetype": "text/x-python",
      "name": "python",
      "nbconvert_exporter": "python",
      "pygments_lexer": "ipython3",
      "version": "3.5.2"
    },
    "colab": {
      "name": "02_read_write_workshop.ipynb",
      "provenance": [],
      "collapsed_sections": [],
      "toc_visible": true
    }
  },
  "cells": [
    {
      "cell_type": "markdown",
      "metadata": {
        "id": "ZQvQxIP1UwU7",
        "colab_type": "text"
      },
      "source": [
        "# **II. Read and write with pandas**"
      ]
    },
    {
      "cell_type": "code",
      "metadata": {
        "id": "Jcg3i2_QQ33Z",
        "colab_type": "code",
        "colab": {}
      },
      "source": [
        "### Steps for use with colab\n",
        "# First step to mount your Google Drive\n",
        "from google.colab import drive\n",
        "drive.mount('/content/drive')\n",
        "%cd /content/drive/My\\ Drive\n",
        "# Clone Pyladies repo \n",
        "#! git clone --recursive https://github.com/pyladiesams/Pandas-advanced-nov2019.git\n",
        "# Install requirements\n",
        "! pip install pandas==0.25.3\n",
        "import pandas as pd\n",
        "# Move into repo\n",
        "%cd /content/drive/My\\ Drive/Pandas-advanced-nov2019/workshop/"
      ],
      "execution_count": 0,
      "outputs": []
    },
    {
      "cell_type": "markdown",
      "metadata": {
        "id": "y67w9CXidfRZ",
        "colab_type": "text"
      },
      "source": [
        "# **Introduction**"
      ]
    },
    {
      "cell_type": "markdown",
      "metadata": {
        "id": "OsCBcsr4QqaW",
        "colab_type": "text"
      },
      "source": [
        "Pandas has two types of labeled data structures especially adapted for data analysis:\n",
        "- series (1-dimensional)\n",
        "- dataframes (2-dimensional)"
      ]
    },
    {
      "cell_type": "markdown",
      "metadata": {
        "id": "xElI3-NXaB1r",
        "colab_type": "text"
      },
      "source": [
        "## Supported formats"
      ]
    },
    {
      "cell_type": "markdown",
      "metadata": {
        "id": "22XjkjtqQqaW",
        "colab_type": "text"
      },
      "source": [
        "This module comes with several I/O functions to read/write data from/into a pandas object. \n",
        "\n",
        "Here is an exhaustive list of these functions showing the different supported formats : \n",
        "- Reader / Writer\n",
        "- read_csv / to_csv\n",
        "- read_json / to_json\n",
        "- read_html / to_html\n",
        "- read_clipboard / to_clipboard\n",
        "- read_excel / to_excel\n",
        "- read_hdf / to_hdf\n",
        "- read_feather / to_feather\n",
        "- read_parquet / to_parquet\n",
        "- read_msgpack / to_msgpack\n",
        "- read_stata / to_stata \n",
        "- read_pickle / to_pickle\n",
        "- read_sql / to_sql\n",
        "- read_gbq / to_gbq (Google Big Query)\n",
        "\n"
      ]
    },
    {
      "cell_type": "markdown",
      "metadata": {
        "id": "exepj4S9UBzw",
        "colab_type": "text"
      },
      "source": [
        "Documentation about how to use all these functions is available here:\n",
        "\n",
        "https://pandas.pydata.org/pandas-docs/stable/user_guide/io.html"
      ]
    },
    {
      "cell_type": "markdown",
      "metadata": {
        "id": "99iqql3CQqaY",
        "colab_type": "text"
      },
      "source": [
        "## Using csv reader with default parameterization\n",
        "Use the read_csv function to load the following file :  airquality_default.csv\n",
        "\n",
        "This function will automatically interprete the data and load it into a dataframe. It has a lot of parameters that can be customized but here only default values will be applied that may or may not fit the format of the input file. \n",
        "\n",
        "\n",
        "\n"
      ]
    },
    {
      "cell_type": "code",
      "metadata": {
        "id": "hh9sfy0PAz1h",
        "colab_type": "code",
        "cellView": "both",
        "colab": {}
      },
      "source": [
        "# Read airquality_default.csv\n",
        "#df=pd.read_csv...\n",
        "#df.head(5)"
      ],
      "execution_count": 0,
      "outputs": []
    },
    {
      "cell_type": "markdown",
      "metadata": {
        "id": "LSjTFVnOBvlR",
        "colab_type": "text"
      },
      "source": [
        "This file is completely standard and had been correctly decoded by the reader."
      ]
    },
    {
      "cell_type": "markdown",
      "metadata": {
        "id": "RmhsPEbBB1_W",
        "colab_type": "text"
      },
      "source": [
        "Now try to load the following file :\n",
        "airquality.csv"
      ]
    },
    {
      "cell_type": "code",
      "metadata": {
        "id": "1FteOYeEQqaY",
        "colab_type": "code",
        "cellView": "both",
        "colab": {}
      },
      "source": [
        "# Read airquality.csv\n",
        "# df=pd.read_csv...\n",
        "# df.head(5)"
      ],
      "execution_count": 0,
      "outputs": []
    },
    {
      "cell_type": "markdown",
      "metadata": {
        "id": "eGCEFmawA44F",
        "colab_type": "text"
      },
      "source": [
        "All the data has been loaded as 2 columns because the delimiter is not correct.\n"
      ]
    },
    {
      "cell_type": "markdown",
      "metadata": {
        "id": "1d0taES7dGsm",
        "colab_type": "text"
      },
      "source": [
        "# **Customize csv reader**\n",
        "\n",
        "In this section we will play with some paramterers to allow you to fully customize the reader.\n",
        "\n"
      ]
    },
    {
      "cell_type": "markdown",
      "metadata": {
        "id": "fH8yNlY4Qqab",
        "colab_type": "text"
      },
      "source": [
        "## Delimiter\n",
        "Default delimiter is ;\n",
        "\n",
        "Two parameters can be passed to the function to set up the delimiter:  \n",
        "- delimiter\n",
        "- sep"
      ]
    },
    {
      "cell_type": "markdown",
      "metadata": {
        "id": "K74qwfYcCPT0",
        "colab_type": "text"
      },
      "source": [
        "Play with the delimiter parameters to correctly decode airquality.csv"
      ]
    },
    {
      "cell_type": "code",
      "metadata": {
        "id": "YYj-swnmkasm",
        "colab_type": "code",
        "colab": {}
      },
      "source": [
        "# your code here"
      ],
      "execution_count": 0,
      "outputs": []
    },
    {
      "cell_type": "markdown",
      "metadata": {
        "id": "pnJEDkUJQqad",
        "colab_type": "text"
      },
      "source": [
        "## Header\n",
        "Try to add the parameter header and set it to:\n",
        "- 0 (default is to auto infer the column names)\n",
        "- None (does not interprete the column names)"
      ]
    },
    {
      "cell_type": "code",
      "metadata": {
        "id": "BZQnTKrkQqae",
        "colab_type": "code",
        "cellView": "both",
        "colab": {}
      },
      "source": [
        "#@Set up header to 0"
      ],
      "execution_count": 0,
      "outputs": []
    },
    {
      "cell_type": "code",
      "metadata": {
        "id": "y6RLGXxZQqag",
        "colab_type": "code",
        "cellView": "both",
        "colab": {}
      },
      "source": [
        "#@Set up header to None\n"
      ],
      "execution_count": 0,
      "outputs": []
    },
    {
      "cell_type": "markdown",
      "metadata": {
        "id": "lhNrzbc7kqMw",
        "colab_type": "text"
      },
      "source": [
        "With header set to None, no column names have been inferred but they can be overwritten."
      ]
    },
    {
      "cell_type": "markdown",
      "metadata": {
        "id": "HNSurzaFQqai",
        "colab_type": "text"
      },
      "source": [
        "## Overwrite column names\n",
        "Use those two paramters to overwrite the column names :\n",
        "- header : None\n",
        "- names : list of strings"
      ]
    },
    {
      "cell_type": "code",
      "metadata": {
        "id": "Nrz3L117Qqaj",
        "colab_type": "code",
        "cellView": "both",
        "colab": {}
      },
      "source": [
        "# your code here\n"
      ],
      "execution_count": 0,
      "outputs": []
    },
    {
      "cell_type": "markdown",
      "metadata": {
        "id": "14gxKPQCE1wU",
        "colab_type": "text"
      },
      "source": [
        "There is still one issue here: the first row contains the header and has been decoded as data. \n",
        "\n",
        "The first row should be skipped."
      ]
    },
    {
      "cell_type": "markdown",
      "metadata": {
        "id": "JERaOleOQqax",
        "colab_type": "text"
      },
      "source": [
        "## Skip lines\n",
        "Several parameters exist to skip lines:\n",
        "- skip_blank_lines (default is True)\n",
        "- comment (give a string and if a row starts with this specified string the row will be ignored)\n",
        "- error_bad_lines (True : turned on by default) \n",
        "- skiprows (index or list of index of the rows that should be skipped, supports also callable functions)"
      ]
    },
    {
      "cell_type": "markdown",
      "metadata": {
        "id": "sPkK9scCF9Fw",
        "colab_type": "text"
      },
      "source": [
        "Play with these parameters to properly load airquality.csv"
      ]
    },
    {
      "cell_type": "code",
      "metadata": {
        "id": "Qlyb0OhJGxhP",
        "colab_type": "code",
        "cellView": "both",
        "colab": {}
      },
      "source": [
        "# your code here"
      ],
      "execution_count": 0,
      "outputs": []
    },
    {
      "cell_type": "markdown",
      "metadata": {
        "id": "OOgfpKqKHLE5",
        "colab_type": "text"
      },
      "source": [
        "The location column does not make sense here since all the data comes from the same sensor. \n",
        "\n",
        "Drop the location column with drop function"
      ]
    },
    {
      "cell_type": "code",
      "metadata": {
        "id": "hac4uYhxHad7",
        "colab_type": "code",
        "cellView": "both",
        "colab": {}
      },
      "source": [
        "# your code here"
      ],
      "execution_count": 0,
      "outputs": []
    },
    {
      "cell_type": "markdown",
      "metadata": {
        "id": "WP-uHjhtQqak",
        "colab_type": "text"
      },
      "source": [
        "## Read a subset of columns\n",
        "Dropping columns can be done in another way directly from the reader.\n",
        "\n",
        "Use the following parameter to read only a subset of columns :\n",
        "- usecols (list of index or list of string names)"
      ]
    },
    {
      "cell_type": "code",
      "metadata": {
        "id": "MSh34TXYI3HP",
        "colab_type": "code",
        "cellView": "both",
        "colab": {}
      },
      "source": [
        "# your code here\n"
      ],
      "execution_count": 0,
      "outputs": []
    },
    {
      "cell_type": "markdown",
      "metadata": {
        "id": "_sFV__3KQqan",
        "colab_type": "text"
      },
      "source": [
        "## Large files : read in chunks\n",
        "If you have to read very large files you can use the following parameter :\n",
        "- chunksize\n",
        "\n",
        "This will split the data into smaller chunks of which you can specify the size and output the data as an iterator."
      ]
    },
    {
      "cell_type": "markdown",
      "metadata": {
        "id": "szZJAhrXJpGq",
        "colab_type": "text"
      },
      "source": [
        "Let's pretend we have a huge file here and try to load it with chunks of 10000 rows each."
      ]
    },
    {
      "cell_type": "code",
      "metadata": {
        "id": "B5Ev-d_fQqan",
        "colab_type": "code",
        "cellView": "both",
        "colab": {}
      },
      "source": [
        "# Read airquality.csv in chunks\n",
        "chunk="
      ],
      "execution_count": 0,
      "outputs": []
    },
    {
      "cell_type": "markdown",
      "metadata": {
        "id": "hJXjwLhJL2LF",
        "colab_type": "text"
      },
      "source": [
        "Let's have a look at the schema of each chunk of data\n"
      ]
    },
    {
      "cell_type": "code",
      "metadata": {
        "id": "terbj-i8LL1b",
        "colab_type": "code",
        "cellView": "both",
        "colab": {}
      },
      "source": [
        "# your code here"
      ],
      "execution_count": 0,
      "outputs": []
    },
    {
      "cell_type": "markdown",
      "metadata": {
        "id": "BTvtHEJtMBI_",
        "colab_type": "text"
      },
      "source": [
        "We can see that the last column has been decoded as integer.\n"
      ]
    },
    {
      "cell_type": "markdown",
      "metadata": {
        "id": "KBmN7qJkUoO-",
        "colab_type": "text"
      },
      "source": [
        "Update a slice of the last column (5:15) for this chunk and set it to None\n",
        "\n",
        "Tip : use iloc\n",
        "\n",
        "Then print the schema again, what happened ? "
      ]
    },
    {
      "cell_type": "code",
      "metadata": {
        "id": "WNfKnwE2Mycu",
        "colab_type": "code",
        "cellView": "both",
        "colab": {}
      },
      "source": [
        "#your code here\n",
        "#chunk.iloc...\n",
        "#chunk.dtypes"
      ],
      "execution_count": 0,
      "outputs": []
    },
    {
      "cell_type": "markdown",
      "metadata": {
        "id": "Zu-hyn15NDqa",
        "colab_type": "text"
      },
      "source": [
        "This column is now set up as float because null values are not supported by int64 type. \n",
        "\n",
        "Since a recent upgrade, a new type Int64 has been introduced to support int and null values.\n",
        "\n",
        "You can try to convert this column with astype function successively to int64 and Int64 to check this out."
      ]
    },
    {
      "cell_type": "code",
      "metadata": {
        "id": "oLydjyDNNeba",
        "colab_type": "code",
        "cellView": "both",
        "colab": {}
      },
      "source": [
        "#your code here\n"
      ],
      "execution_count": 0,
      "outputs": []
    },
    {
      "cell_type": "markdown",
      "metadata": {
        "id": "-q6yCJTkaWxC",
        "colab_type": "text"
      },
      "source": [
        "\n",
        "# **Data types**"
      ]
    },
    {
      "cell_type": "markdown",
      "metadata": {
        "id": "fW7zVG6PQqaX",
        "colab_type": "text"
      },
      "source": [
        "The most commonly used types available in pandas data structures :\n",
        "- int64 / Int64\n",
        "- float64\n",
        "- datetime64\n",
        "- bool\n",
        "- object (mixed types)"
      ]
    },
    {
      "cell_type": "markdown",
      "metadata": {
        "id": "sHK6OcnYQqar",
        "colab_type": "text"
      },
      "source": [
        "## Specify the schema\n",
        "Why ?\n",
        "- avoid misattribution of the types by the reader -> this can lead to broken ETL pipelines\n",
        "- when dealing with large data files this improves the performance\n",
        "\n",
        "How ?\n",
        "- usecols \n",
        "- dtype"
      ]
    },
    {
      "cell_type": "markdown",
      "metadata": {
        "id": "TR7GqgtlVziC",
        "colab_type": "text"
      },
      "source": [
        "Load the airquality.csv file by playing with usecols, dtype and decimal parameters to load the data with the following schema:\n",
        "- time : object\n",
        "- component : object\n",
        "- concentration : float64\n",
        "- risk_index : Int64"
      ]
    },
    {
      "cell_type": "code",
      "metadata": {
        "id": "oVQKMpWMWppa",
        "colab_type": "code",
        "cellView": "both",
        "colab": {}
      },
      "source": [
        "#Your code here \n"
      ],
      "execution_count": 0,
      "outputs": []
    },
    {
      "cell_type": "markdown",
      "metadata": {
        "id": "oe3SS8H_Qqay",
        "colab_type": "text"
      },
      "source": [
        "## Converters\n",
        "Data can be converted on the fly while reading the file by passing the parameter:\n",
        "- converters : dict of functions for converting values in certain columns. Keys can either be integers or column labels.\n",
        "\n",
        "Warning : if both converters and dtype are passed for the same column to the reader converter will be applied and dtype will be ignored"
      ]
    },
    {
      "cell_type": "markdown",
      "metadata": {
        "id": "GwVm1Lv58prW",
        "colab_type": "text"
      },
      "source": [
        "Write a function to convert the column time to datetime"
      ]
    },
    {
      "cell_type": "code",
      "metadata": {
        "id": "bp46baimImhf",
        "colab_type": "code",
        "colab": {}
      },
      "source": [
        "# your code here"
      ],
      "execution_count": 0,
      "outputs": []
    },
    {
      "cell_type": "markdown",
      "metadata": {
        "id": "hO4wy8dc9A7o",
        "colab_type": "text"
      },
      "source": [
        "Write another function to apply a conversion from micrograms/m3 to ppb for carbon monoxide (CO) \n",
        "\n",
        "The conversion factor can be found in the following pdf:"
      ]
    },
    {
      "cell_type": "markdown",
      "metadata": {
        "id": "Lxk6Vo2QAWnZ",
        "colab_type": "text"
      },
      "source": [
        "    https://www2.dmu.dk/AtmosphericEnvironment/Expost/database/docs/PPM_conversion.pdf"
      ]
    },
    {
      "cell_type": "code",
      "metadata": {
        "id": "Wg64umflIrZR",
        "colab_type": "code",
        "colab": {}
      },
      "source": [
        "# your code here"
      ],
      "execution_count": 0,
      "outputs": []
    },
    {
      "cell_type": "markdown",
      "metadata": {
        "colab_type": "text",
        "id": "L5V5WTcMIjsA"
      },
      "source": [
        "Then use your functions with the converters parameter to read airquality.csv"
      ]
    },
    {
      "cell_type": "code",
      "metadata": {
        "id": "VULl1XvzI0BU",
        "colab_type": "code",
        "colab": {}
      },
      "source": [
        "# your code here"
      ],
      "execution_count": 0,
      "outputs": []
    },
    {
      "cell_type": "markdown",
      "metadata": {
        "id": "ZyeiFTtCPXB4",
        "colab_type": "text"
      },
      "source": [
        "Write a function to convert the concentration column to float "
      ]
    },
    {
      "cell_type": "code",
      "metadata": {
        "id": "f8rdZ-XiYDdl",
        "colab_type": "code",
        "cellView": "both",
        "colab": {}
      },
      "source": [
        "# your code here"
      ],
      "execution_count": 0,
      "outputs": []
    },
    {
      "cell_type": "markdown",
      "metadata": {
        "id": "8KdB27kXQqav",
        "colab_type": "text"
      },
      "source": [
        "## Booleans\n",
        "- true_values : list of strings to be decoded as True\n",
        "- false_values : list of strings to be decoded as False"
      ]
    },
    {
      "cell_type": "markdown",
      "metadata": {
        "id": "uL28WRWeQqaw",
        "colab_type": "text"
      },
      "source": [
        "## Missing data\n",
        "- na_values (default list [ ‘’, ‘#N/A’, ‘#N/A N/A’, ‘#NA’, ‘-1.#IND’, ‘-1.#QNAN’, ‘-NaN’, ‘-nan’, ‘1.#IND’, ‘1.#QNAN’, ‘N/A’, ‘NA’, ‘NULL’, ‘NaN’, ‘n/a’, ‘nan’, ‘null’])\n",
        "- keep_default_na (keep the default list and append what you specified as na_values)\n",
        "- na_filter (filter out na values default is **False**)"
      ]
    },
    {
      "cell_type": "markdown",
      "metadata": {
        "id": "uTUy2OnyQqax",
        "colab_type": "text"
      },
      "source": [
        "## Bad lines\n",
        "Data providers can make mistakes. Therefore it is helpful to have a process in place that won't break in case of bad lines\n",
        "- error_bad_lines \n",
        "    - default is True, i.e. bad lines will generate an error no dataframe is returned)\n",
        "    - False bad lines will be dropped from the final dataframe"
      ]
    },
    {
      "cell_type": "markdown",
      "metadata": {
        "id": "aZEqhv8PZh-q",
        "colab_type": "text"
      },
      "source": [
        "Read the file airquality_bad.csv by playing with error_bad_lines"
      ]
    },
    {
      "cell_type": "code",
      "metadata": {
        "id": "ZfeU9wBvSaR4",
        "colab_type": "code",
        "cellView": "both",
        "colab": {}
      },
      "source": [
        "# Read airquality_bad.csv\n"
      ],
      "execution_count": 0,
      "outputs": []
    },
    {
      "cell_type": "markdown",
      "metadata": {
        "id": "k090_NUeQqay",
        "colab_type": "text"
      },
      "source": [
        "## Encoding\n",
        "It is always good practice to have an understanding of the encoding of your data files. Because a mismatch between encoding and decoding can lead to errors.\n",
        "\n",
        "- encoding\n",
        "\n",
        "An exhaustive list of the standard python encodings can be found here:\n",
        "https://docs.python.org/3/library/codecs.html#standard-encodings"
      ]
    },
    {
      "cell_type": "markdown",
      "metadata": {
        "id": "9VhPsEEubb5O",
        "colab_type": "text"
      },
      "source": [
        "Read airquality_encode.csv with utf-8 encoding what happens ?"
      ]
    },
    {
      "cell_type": "code",
      "metadata": {
        "id": "JchIJorybOTw",
        "colab_type": "code",
        "cellView": "both",
        "colab": {}
      },
      "source": [
        "# your code here\n"
      ],
      "execution_count": 0,
      "outputs": []
    },
    {
      "cell_type": "markdown",
      "metadata": {
        "id": "HxWOZTvxJVV7",
        "colab_type": "text"
      },
      "source": [
        "Try another encoding and fix this error."
      ]
    },
    {
      "cell_type": "code",
      "metadata": {
        "id": "L27argI5JWZu",
        "colab_type": "code",
        "colab": {}
      },
      "source": [
        "# your code here"
      ],
      "execution_count": 0,
      "outputs": []
    },
    {
      "cell_type": "markdown",
      "metadata": {
        "id": "_rS8buJZQqa4",
        "colab_type": "text"
      },
      "source": [
        "# Exercises\n",
        "\n",
        "\n"
      ]
    },
    {
      "cell_type": "markdown",
      "metadata": {
        "id": "3JEXlR_dhwK-",
        "colab_type": "text"
      },
      "source": [
        "## Exercise 1:\n",
        "Load the file airquality_mess.csv in a dataframe having the following schema :\n",
        "*   time :              datetime64\n",
        "*   component :         object\n",
        "*   concentration :     float64\n",
        "*   risk_index :        Int64\n",
        "*   low_risk :          bool\n",
        "\n",
        "\n",
        "\n",
        "Tip: you can reuse the converters\n",
        "\n",
        "\n",
        "\n",
        "\n",
        "\n"
      ]
    },
    {
      "cell_type": "code",
      "metadata": {
        "id": "ZgNufqLLrx2g",
        "colab_type": "code",
        "cellView": "both",
        "colab": {}
      },
      "source": [
        "# your code here"
      ],
      "execution_count": 0,
      "outputs": []
    },
    {
      "cell_type": "markdown",
      "metadata": {
        "id": "oTTGyuwYmMAU",
        "colab_type": "text"
      },
      "source": [
        "## Exercise 2:\n",
        "As previsouly in exercice 1 but load only the data about carbon monoxide component (CO)\n",
        "\n",
        "Tip : write a callable function to select the indices of the rows to be loaded"
      ]
    },
    {
      "cell_type": "code",
      "metadata": {
        "id": "CQTMiiakm6Yr",
        "colab_type": "code",
        "cellView": "both",
        "colab": {}
      },
      "source": [
        "# your code here\n"
      ],
      "execution_count": 0,
      "outputs": []
    },
    {
      "cell_type": "markdown",
      "metadata": {
        "id": "UxskB-pSncf0",
        "colab_type": "text"
      },
      "source": [
        "## Exercise 3:\n",
        "\n",
        "* Load the airquality.csv file\n",
        "* Corrupt the file with some magic (apply, drop ...)\n",
        "* Save the result in a file airquality_corrupt.FMT (use the format of your choice)\n",
        "* Let your peer decode it in one shot !"
      ]
    }
  ]
}